{
 "cells": [
  {
   "cell_type": "markdown",
   "metadata": {},
   "source": [
    "# This is tutorial using TabNetClassifier \n",
    "\n",
    "    This includes Cross Validation test and Hyper parameter tuning\n",
    "    this code is only for classifcation at the moment (soon I will make tutorial for regressor)\n"
   ]
  },
  {
   "cell_type": "markdown",
   "metadata": {},
   "source": [
    "## import libraries\n",
    "\n",
    "    set target feature and unused function.\n",
    "    All features need to be float. "
   ]
  },
  {
   "cell_type": "code",
   "execution_count": 9,
   "metadata": {},
   "outputs": [],
   "source": [
    "from torch import nn\n",
    "import torch\n",
    "from torch import tensor \n",
    "from torch.autograd import Variable\n",
    "import pandas as pd\n",
    "import numpy as np\n",
    "import matplotlib.pyplot as plt \n",
    "from pytorch_tabnet.tab_model import TabNetClassifier, TabNetRegressor\n",
    "from sklearn.metrics import roc_auc_score\n",
    "from sklearn.model_selection import KFold\n",
    "import torch\n",
    "import itertools\n",
    "from pytorch_tabnet.tab_model import TabNetClassifier\n",
    "from sklearn.metrics import roc_auc_score, accuracy_score\n",
    "from tqdm.notebook import tqdm\n",
    "\n",
    "train_data= pd.read_csv('./data/train.ct.csv')\n",
    "test_data= pd.read_csv('./data/test.ct.csv')\n",
    "target ='sex'\n",
    "unused_feat = ['Set', 'subjectkey', 'race.ethnicity', 'abcd_site', 'Unnamed: 0', 'fsqc_qc.y', 'kflod']\n",
    "Num_FOLDS  = 5\n",
    "# the number of feature that you want to show \n",
    "Num_feat = 5"
   ]
  },
  {
   "cell_type": "markdown",
   "metadata": {},
   "source": [
    "## Define preproecessing: fillna as 0, set kflod"
   ]
  },
  {
   "cell_type": "code",
   "execution_count": 10,
   "metadata": {},
   "outputs": [],
   "source": [
    "def preproecessing (train_data, test_data, NUM_FOLDS):\n",
    "    test_data_processed= test_data.fillna(0).reset_index(drop=True)\n",
    "    train_data_processed = train_data.fillna(0).reset_index(drop=True)\n",
    "    \n",
    "    test_data_processed[\"kfold\"] = -1\n",
    "\n",
    "    train_data_processed[\"kfold\"] = -1\n",
    "\n",
    "    train_data_processed = train_data_processed.sample(frac=1,random_state=2020).reset_index(drop=True)\n",
    "\n",
    "    kf = KFold(n_splits=NUM_FOLDS)\n",
    "\n",
    "    for fold, (trn_, val_) in enumerate(kf.split(X=train_data_processed, y=train_data_processed)):\n",
    "        train_data_processed.loc[val_, 'kfold'] = fold\n",
    "    print(\"done preprocessing\")\n",
    "    return train_data_processed, test_data_processed"
   ]
  },
  {
   "cell_type": "markdown",
   "metadata": {},
   "source": [
    "## Define function of finding best hyperparameters"
   ]
  },
  {
   "cell_type": "code",
   "execution_count": 31,
   "metadata": {},
   "outputs": [],
   "source": [
    "# Augmented\n",
    "import torch\n",
    "import itertools\n",
    "from pytorch_tabnet.tab_model import TabNetClassifier\n",
    "from sklearn.metrics import roc_auc_score, accuracy_score\n",
    "from tqdm.notebook import tqdm\n",
    "\n",
    "\n",
    "def find_bestpar(X_train, Y_train, X_valid, Y_valid, X_test, Y_test):\n",
    "    # Store maximum auc\n",
    "    max_auc= 0\n",
    "    # Store maximum hypterparameter set\n",
    "    max_hy = []\n",
    "    # define hyperparameter space\n",
    "    \"\"\"\n",
    "    n_ = [4,8,16]\n",
    "    lr_ = [2e-2, 1e-2, 5e-3, 2e-3, 1e-3, 1e-4]\n",
    "    w_ = [0.01, 0.001, 0.0001]\n",
    "    g_ = [0.95, 0.99, 0.9]\n",
    "    ss_ = [10, 20, 30]\n",
    "    # Orginal hyperparameter space \n",
    "    \"\"\"\n",
    "    # define hyperparameter space (quick version)\n",
    "    n_ = [4]\n",
    "    lr_ = [2e-2]\n",
    "    w_ = [0.01]\n",
    "    g_ = [0.95]\n",
    "    ss_ = [10, 20]\n",
    "    \n",
    "    all_ = [n_, lr_, w_, g_, ss_]\n",
    "    h_space = [s for s in itertools.product(*all_)]\n",
    "    \n",
    "    for hy in tqdm(h_space):\n",
    "        clf = TabNetClassifier(n_a = hy[0],\n",
    "                               n_d = hy[0],\n",
    "                               optimizer_params = dict(lr=hy[1], weight_decay=hy[2]),\n",
    "                               scheduler_params={\"step_size\":hy[4], \"gamma\":hy[3]},\n",
    "                               scheduler_fn=torch.optim.lr_scheduler.StepLR,\n",
    "                               verbose=0\n",
    "                               )\n",
    "        clf.fit(X_train, Y_train, X_valid, Y_valid, patience=10, batch_size=256, max_epochs=200)\n",
    "        #clf.fit(X_train, Y_train, X_valid, Y_valid, patience=50, batch_size=256, max_epochs=200) (Recommended)\n",
    "        preds_acc = clf.predict(X_test)\n",
    "        preds_prob = clf.predict_proba(X_test)\n",
    "        test_auc = roc_auc_score(y_score=preds_prob[:,1], y_true=Y_test)\n",
    "        test_acc = accuracy_score(preds_acc, Y_test)\n",
    "        print(\"--------Test auc: {} Test acc:{}-------------\".format(test_auc, test_acc) )\n",
    "        if test_auc>max_auc:\n",
    "            max_hy = hy\n",
    "            max_auc = test_auc\n",
    "    return max_hy"
   ]
  },
  {
   "cell_type": "markdown",
   "metadata": {},
   "source": [
    "## Do it with best hyperparameter "
   ]
  },
  {
   "cell_type": "code",
   "execution_count": 12,
   "metadata": {},
   "outputs": [],
   "source": [
    "def bestpar_tuning(X_train, Y_train, X_valid, Y_valid, X_test, Y_test, max_hy):\n",
    " \n",
    "    hy = max_hy\n",
    "    clf = TabNetClassifier(n_a = hy[0],\n",
    "                           n_d = hy[0],\n",
    "                           optimizer_params = dict(lr=hy[1], weight_decay=hy[2]),\n",
    "                           scheduler_params={\"step_size\":hy[4], \"gamma\":hy[3]},\n",
    "                           scheduler_fn=torch.optim.lr_scheduler.StepLR,\n",
    "                           verbose=0\n",
    "                               )\n",
    "    clf.fit(X_train, Y_train, X_valid, Y_valid, patience=50, batch_size=256, max_epochs=200)\n",
    "    preds_acc = clf.predict(X_test)\n",
    "    preds_prob = clf.predict_proba(X_test)\n",
    "    test_auc = roc_auc_score(y_score=preds_prob[:,1], y_true=Y_test)\n",
    "    test_acc = accuracy_score(preds_acc, Y_test)\n",
    "    print(\"Max hy:\" ,hy)\n",
    "    print(\"FINAL TEST SCORE(max) test auc: {} test acc: {}\".format(test_auc, test_acc))\n",
    "    return test_auc, clf\n",
    "    \n",
    "          "
   ]
  },
  {
   "cell_type": "markdown",
   "metadata": {},
   "source": [
    "## Find importance feature "
   ]
  },
  {
   "cell_type": "code",
   "execution_count": 33,
   "metadata": {},
   "outputs": [],
   "source": [
    "def feature(Num_feat, clf, test_data_processed, features):\n",
    "    importance =clf.feature_importances_\n",
    "    plt.plot(importance)\n",
    "    plt.show()\n",
    "    labels_importance=importance.argsort()[::-1]\n",
    "\n",
    "    importance_sort = np.sort(importance)[::-1]\n",
    "\n",
    "    feat_name_sort=test_data_processed[features].columns[labels_importance]\n",
    "    important_features = pd.DataFrame() \n",
    "\n",
    "\n",
    "    for i in range (Num_feat):\n",
    "        feature = pd.DataFrame([[feat_name_sort[i],importance_sort[i]]], columns = ['feature name', 'ratio'])\n",
    "        important_features=pd.concat([important_features,feature])\n",
    "\n",
    "    print(important_features.reset_index(drop=True))"
   ]
  },
  {
   "cell_type": "markdown",
   "metadata": {},
   "source": [
    "## Define run(find best par, learn with best par, show feature) function \n",
    "    set X_test, Y_test, X_train, Y_train, X_valid, Y_valid"
   ]
  },
  {
   "cell_type": "code",
   "execution_count": 30,
   "metadata": {},
   "outputs": [],
   "source": [
    "\n",
    "def run(train_data_processed, test_data_processed, fold, Num_feat, features):\n",
    "    X_test = test_data_processed[features].values\n",
    "    Y_test = test_data_processed[target].values\n",
    "\n",
    "    df_train = train_data_processed[train_data_processed.kfold != fold]\n",
    "    df_valid = train_data_processed[train_data_processed.kfold == fold]\n",
    "    \n",
    "    X_train = df_train[features].values\n",
    "    Y_train = df_train[target].values\n",
    "    \n",
    "    X_valid = df_valid[features].values\n",
    "    Y_valid = df_valid[target].values\n",
    "    \n",
    "    y_oof = np.zeros((df_valid.shape[0],len(target)))   # Out of folds validation\n",
    "    \n",
    "    print(\"--------Training Begining for fold {}-------------\".format(fold+1))\n",
    "    n_ = [4,8,16]\n",
    "    lr_ = [2e-2, 1e-2, 5e-3, 2e-3, 1e-3, 1e-4]\n",
    "    w_ = [0.01, 0.001, 0.0001]\n",
    "    g_ = [0.95, 0.99, 0.9]\n",
    "    ss_ = [10, 20, 30]\n",
    "    all_ = [n_, lr_, w_, g_, ss_]\n",
    "    h_space = [s for s in itertools.product(*all_)]\n",
    "    # Start training\n",
    "    max_hy = find_bestpar(X_train, Y_train, X_valid, Y_valid, X_test, Y_test)\n",
    "    print(\"Found maximum hyperparmeter, now work with that\")\n",
    "    test_auc, clf = bestpar_tuning(X_train, Y_train, X_valid, Y_valid, X_test, Y_test, max_hy)\n",
    "    \n",
    "    feature(Num_feat, clf, test_data_processed, features)\n",
    "    \n",
    "    return test_auc\n",
    "    \n",
    "    # VISUALIZTION\n",
    "    #plt.figure(figsize=(12,6))\n",
    "    #plt.plot(model.history['train']['loss'])\n",
    "    #plt.plot(model.history['valid']['loss'])\n",
    "    \n",
    "    #Plotting Metric\n",
    "    #plt.plot([-x for x in model.history['train']['metric']])\n",
    "    #plt.plot([-x for x in model.history['valid']['metric']])"
   ]
  },
  {
   "cell_type": "markdown",
   "metadata": {},
   "source": [
    "## Definde function for Cross Validation test "
   ]
  },
  {
   "cell_type": "code",
   "execution_count": 28,
   "metadata": {},
   "outputs": [],
   "source": [
    "def hyperparametertuning_CV (train_data, test_data, target, unused_feat, Num_FOLDS, Num_feat):\n",
    "    CV_auc_all = []\n",
    "    train_data_processed, test_data_processed = preproecessing (train_data, test_data, Num_FOLDS)\n",
    "    \n",
    "    features = [ col for col in train_data_processed.columns if col not in unused_feat + [target]] \n",
    "    \n",
    "    for i in range(Num_FOLDS):\n",
    "        test_auc = run(train_data_processed, test_data_processed, i, Num_feat, features)\n",
    "        print (\"--------Test auc: {} for fold {}-------------\".format(test_auc, i+1))\n",
    "        print (\"---------------------------------------------\")\n",
    "        CV_auc_all.append(test_auc)\n",
    "    print(CV_auc_all)"
   ]
  },
  {
   "cell_type": "markdown",
   "metadata": {},
   "source": [
    "## Finally! you can do hyperparametertuning with Cross validation\n"
   ]
  },
  {
   "cell_type": "code",
   "execution_count": null,
   "metadata": {},
   "outputs": [
    {
     "name": "stdout",
     "output_type": "stream",
     "text": [
      "done preprocessing\n",
      "--------Training Begining for fold 1-------------\n"
     ]
    },
    {
     "data": {
      "application/vnd.jupyter.widget-view+json": {
       "model_id": "0359d148ed784a379dda82333b185b19",
       "version_major": 2,
       "version_minor": 0
      },
      "text/plain": [
       "HBox(children=(FloatProgress(value=0.0, max=2.0), HTML(value='')))"
      ]
     },
     "metadata": {},
     "output_type": "display_data"
    },
    {
     "name": "stdout",
     "output_type": "stream",
     "text": [
      "Device used : cuda\n",
      "--------Test auc: 0.842874614540323 Test acc:0.7301992846193153-------------\n",
      "Device used : cuda\n",
      "--------Test auc: 0.842874614540323 Test acc:0.7301992846193153-------------\n",
      "\n",
      "Device used : cuda\n",
      "Max hy: (4, 0.02, 0.01, 0.95, 10)\n",
      "FINAL TEST SCORE(max) test auc: 0.8480823707730099 test acc: 0.7496167603474706\n"
     ]
    },
    {
     "data": {
      "image/png": "[encoded data removed]",
      "text/plain": [
       "<Figure size 432x288 with 1 Axes>"
      ]
     },
     "metadata": {
      "needs_background": "light"
     },
     "output_type": "display_data"
    },
    {
     "name": "stdout",
     "output_type": "stream",
     "text": [
      "              feature name     ratio\n",
      "0  con_L.CACG_L.RACG_count  0.192914\n",
      "1   con_L.RACG_R.LOG_count  0.151109\n",
      "2    con_L.IPG_R.STG_count  0.147737\n",
      "3   con_L.PCAL_L.SFG_count  0.057283\n",
      "4    con_R.HI_R.PoCG_count  0.054463\n",
      "--------Test auc: 0.8480823707730099 for fold 1-------------\n",
      "---------------------------------------------\n",
      "--------Training Begining for fold 2-------------\n"
     ]
    },
    {
     "data": {
      "application/vnd.jupyter.widget-view+json": {
       "model_id": "4b4320d4f5064dee9487bf4aa854a72b",
       "version_major": 2,
       "version_minor": 0
      },
      "text/plain": [
       "HBox(children=(FloatProgress(value=0.0, max=2.0), HTML(value='')))"
      ]
     },
     "metadata": {},
     "output_type": "display_data"
    },
    {
     "name": "stdout",
     "output_type": "stream",
     "text": [
      "Device used : cuda\n"
     ]
    }
   ],
   "source": [
    "\"\"\"\n",
    "train_data= pd.read_csv('./data/train.ct.csv')\n",
    "test_data= pd.read_csv('./data/test.ct.csv')\n",
    "target ='sex'\n",
    "unused_feat = ['Set', 'subjectkey', 'race.ethnicity', 'abcd_site', 'Unnamed: 0', 'fsqc_qc.y', 'kflod']\n",
    "Num_FOLDS  = 5\n",
    "# the number of feature that you want to show \n",
    "Num_feat = 5\n",
    "\n",
    "\"\"\"    \n",
    "\n",
    "hyperparametertuning_CV (train_data, test_data, target, unused_feat, Num_FOLDS, Num_feat)\n"
   ]
  }
 ],
 "metadata": {
  "kernelspec": {
   "display_name": "Python 3",
   "language": "python",
   "name": "python3"
  },
  "language_info": {
   "codemirror_mode": {
    "name": "ipython",
    "version": 3
   },
   "file_extension": ".py",
   "mimetype": "text/x-python",
   "name": "python",
   "nbconvert_exporter": "python",
   "pygments_lexer": "ipython3",
   "version": "3.7.6"
  }
 },
 "nbformat": 4,
 "nbformat_minor": 4
}
